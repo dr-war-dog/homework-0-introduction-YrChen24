{
 "cells": [
  {
   "cell_type": "markdown",
   "metadata": {},
   "source": [
    "### Homework 0 - Introduction"
   ]
  },
  {
   "cell_type": "markdown",
   "metadata": {},
   "source": [
    "In this homework, I still use the Building Inventory data set."
   ]
  },
  {
   "cell_type": "code",
   "execution_count": 5,
   "metadata": {},
   "outputs": [
    {
     "data": {
      "text/html": [
       "<div>\n",
       "<style scoped>\n",
       "    .dataframe tbody tr th:only-of-type {\n",
       "        vertical-align: middle;\n",
       "    }\n",
       "\n",
       "    .dataframe tbody tr th {\n",
       "        vertical-align: top;\n",
       "    }\n",
       "\n",
       "    .dataframe thead th {\n",
       "        text-align: right;\n",
       "    }\n",
       "</style>\n",
       "<table border=\"1\" class=\"dataframe\">\n",
       "  <thead>\n",
       "    <tr style=\"text-align: right;\">\n",
       "      <th></th>\n",
       "      <th>Agency Name</th>\n",
       "      <th>Location Name</th>\n",
       "      <th>Address</th>\n",
       "      <th>City</th>\n",
       "      <th>Zip code</th>\n",
       "      <th>County</th>\n",
       "      <th>Congress Dist</th>\n",
       "      <th>Congressional Full Name</th>\n",
       "      <th>Rep Dist</th>\n",
       "      <th>Rep Full Name</th>\n",
       "      <th>...</th>\n",
       "      <th>Bldg Status</th>\n",
       "      <th>Year Acquired</th>\n",
       "      <th>Year Constructed</th>\n",
       "      <th>Square Footage</th>\n",
       "      <th>Total Floors</th>\n",
       "      <th>Floors Above Grade</th>\n",
       "      <th>Floors Below Grade</th>\n",
       "      <th>Usage Description</th>\n",
       "      <th>Usage Description 2</th>\n",
       "      <th>Usage Description 3</th>\n",
       "    </tr>\n",
       "  </thead>\n",
       "  <tbody>\n",
       "    <tr>\n",
       "      <th>0</th>\n",
       "      <td>Department of Natural Resources</td>\n",
       "      <td>Anderson Lake Conservation Area - Fulton County</td>\n",
       "      <td>Anderson Lake C.a.</td>\n",
       "      <td>Astoria</td>\n",
       "      <td>61501</td>\n",
       "      <td>Fulton</td>\n",
       "      <td>17</td>\n",
       "      <td>Cheri Bustos</td>\n",
       "      <td>93</td>\n",
       "      <td>Hammond Norine K.</td>\n",
       "      <td>...</td>\n",
       "      <td>In Use</td>\n",
       "      <td>1975</td>\n",
       "      <td>1975</td>\n",
       "      <td>144</td>\n",
       "      <td>1</td>\n",
       "      <td>1</td>\n",
       "      <td>0</td>\n",
       "      <td>Unusual</td>\n",
       "      <td>Unusual</td>\n",
       "      <td>Not provided</td>\n",
       "    </tr>\n",
       "    <tr>\n",
       "      <th>1</th>\n",
       "      <td>Department of Natural Resources</td>\n",
       "      <td>Anderson Lake Conservation Area - Fulton County</td>\n",
       "      <td>Anderson Lake C.a.</td>\n",
       "      <td>Astoria</td>\n",
       "      <td>61501</td>\n",
       "      <td>Fulton</td>\n",
       "      <td>17</td>\n",
       "      <td>Cheri Bustos</td>\n",
       "      <td>93</td>\n",
       "      <td>Hammond Norine K.</td>\n",
       "      <td>...</td>\n",
       "      <td>In Use</td>\n",
       "      <td>2004</td>\n",
       "      <td>2004</td>\n",
       "      <td>144</td>\n",
       "      <td>1</td>\n",
       "      <td>1</td>\n",
       "      <td>0</td>\n",
       "      <td>Unusual</td>\n",
       "      <td>Unusual</td>\n",
       "      <td>Not provided</td>\n",
       "    </tr>\n",
       "    <tr>\n",
       "      <th>2</th>\n",
       "      <td>Department of Natural Resources</td>\n",
       "      <td>Anderson Lake Conservation Area - Fulton County</td>\n",
       "      <td>Anderson Lake C.a.</td>\n",
       "      <td>Astoria</td>\n",
       "      <td>61501</td>\n",
       "      <td>Fulton</td>\n",
       "      <td>17</td>\n",
       "      <td>Cheri Bustos</td>\n",
       "      <td>93</td>\n",
       "      <td>Hammond Norine K.</td>\n",
       "      <td>...</td>\n",
       "      <td>In Use</td>\n",
       "      <td>2004</td>\n",
       "      <td>2004</td>\n",
       "      <td>144</td>\n",
       "      <td>1</td>\n",
       "      <td>1</td>\n",
       "      <td>0</td>\n",
       "      <td>Unusual</td>\n",
       "      <td>Unusual</td>\n",
       "      <td>Not provided</td>\n",
       "    </tr>\n",
       "    <tr>\n",
       "      <th>3</th>\n",
       "      <td>Department of Natural Resources</td>\n",
       "      <td>Anderson Lake Conservation Area - Fulton County</td>\n",
       "      <td>Anderson Lake C.a.</td>\n",
       "      <td>Astoria</td>\n",
       "      <td>61501</td>\n",
       "      <td>Fulton</td>\n",
       "      <td>17</td>\n",
       "      <td>Cheri Bustos</td>\n",
       "      <td>93</td>\n",
       "      <td>Hammond Norine K.</td>\n",
       "      <td>...</td>\n",
       "      <td>In Use</td>\n",
       "      <td>2004</td>\n",
       "      <td>2004</td>\n",
       "      <td>144</td>\n",
       "      <td>1</td>\n",
       "      <td>1</td>\n",
       "      <td>0</td>\n",
       "      <td>Unusual</td>\n",
       "      <td>Unusual</td>\n",
       "      <td>Not provided</td>\n",
       "    </tr>\n",
       "    <tr>\n",
       "      <th>4</th>\n",
       "      <td>Department of Natural Resources</td>\n",
       "      <td>Anderson Lake Conservation Area - Fulton County</td>\n",
       "      <td>Anderson Lake C.a.</td>\n",
       "      <td>Astoria</td>\n",
       "      <td>61501</td>\n",
       "      <td>Fulton</td>\n",
       "      <td>17</td>\n",
       "      <td>Cheri Bustos</td>\n",
       "      <td>93</td>\n",
       "      <td>Hammond Norine K.</td>\n",
       "      <td>...</td>\n",
       "      <td>In Use</td>\n",
       "      <td>2004</td>\n",
       "      <td>2004</td>\n",
       "      <td>144</td>\n",
       "      <td>1</td>\n",
       "      <td>1</td>\n",
       "      <td>0</td>\n",
       "      <td>Unusual</td>\n",
       "      <td>Unusual</td>\n",
       "      <td>Not provided</td>\n",
       "    </tr>\n",
       "  </tbody>\n",
       "</table>\n",
       "<p>5 rows × 22 columns</p>\n",
       "</div>"
      ],
      "text/plain": [
       "                       Agency Name  \\\n",
       "0  Department of Natural Resources   \n",
       "1  Department of Natural Resources   \n",
       "2  Department of Natural Resources   \n",
       "3  Department of Natural Resources   \n",
       "4  Department of Natural Resources   \n",
       "\n",
       "                                     Location Name             Address  \\\n",
       "0  Anderson Lake Conservation Area - Fulton County  Anderson Lake C.a.   \n",
       "1  Anderson Lake Conservation Area - Fulton County  Anderson Lake C.a.   \n",
       "2  Anderson Lake Conservation Area - Fulton County  Anderson Lake C.a.   \n",
       "3  Anderson Lake Conservation Area - Fulton County  Anderson Lake C.a.   \n",
       "4  Anderson Lake Conservation Area - Fulton County  Anderson Lake C.a.   \n",
       "\n",
       "      City  Zip code  County  Congress Dist Congressional Full Name  Rep Dist  \\\n",
       "0  Astoria     61501  Fulton             17            Cheri Bustos        93   \n",
       "1  Astoria     61501  Fulton             17            Cheri Bustos        93   \n",
       "2  Astoria     61501  Fulton             17            Cheri Bustos        93   \n",
       "3  Astoria     61501  Fulton             17            Cheri Bustos        93   \n",
       "4  Astoria     61501  Fulton             17            Cheri Bustos        93   \n",
       "\n",
       "       Rep Full Name         ...          Bldg Status Year Acquired  \\\n",
       "0  Hammond Norine K.         ...               In Use          1975   \n",
       "1  Hammond Norine K.         ...               In Use          2004   \n",
       "2  Hammond Norine K.         ...               In Use          2004   \n",
       "3  Hammond Norine K.         ...               In Use          2004   \n",
       "4  Hammond Norine K.         ...               In Use          2004   \n",
       "\n",
       "  Year Constructed  Square Footage  Total Floors  Floors Above Grade  \\\n",
       "0             1975             144             1                   1   \n",
       "1             2004             144             1                   1   \n",
       "2             2004             144             1                   1   \n",
       "3             2004             144             1                   1   \n",
       "4             2004             144             1                   1   \n",
       "\n",
       "   Floors Below Grade  Usage Description  Usage Description 2  \\\n",
       "0                   0            Unusual              Unusual   \n",
       "1                   0            Unusual              Unusual   \n",
       "2                   0            Unusual              Unusual   \n",
       "3                   0            Unusual              Unusual   \n",
       "4                   0            Unusual              Unusual   \n",
       "\n",
       "  Usage Description 3  \n",
       "0        Not provided  \n",
       "1        Not provided  \n",
       "2        Not provided  \n",
       "3        Not provided  \n",
       "4        Not provided  \n",
       "\n",
       "[5 rows x 22 columns]"
      ]
     },
     "execution_count": 5,
     "metadata": {},
     "output_type": "execute_result"
    }
   ],
   "source": [
    "#First I will read in data as a data frame and plot the relationship between two random numerical variables\n",
    "#Read in data\n",
    "import pandas as pd\n",
    "df=pd.read_csv(\"building_inventory.csv\")\n",
    "df.head()"
   ]
  },
  {
   "cell_type": "code",
   "execution_count": 6,
   "metadata": {},
   "outputs": [
    {
     "name": "stdout",
     "output_type": "stream",
     "text": [
      "(8862, 22)\n",
      "Agency Name                object\n",
      "Location Name              object\n",
      "Address                    object\n",
      "City                       object\n",
      "Zip code                    int64\n",
      "County                     object\n",
      "Congress Dist               int64\n",
      "Congressional Full Name    object\n",
      "Rep Dist                    int64\n",
      "Rep Full Name              object\n",
      "Senate Dist                 int64\n",
      "Senator Full Name          object\n",
      "Bldg Status                object\n",
      "Year Acquired               int64\n",
      "Year Constructed            int64\n",
      "Square Footage              int64\n",
      "Total Floors                int64\n",
      "Floors Above Grade          int64\n",
      "Floors Below Grade          int64\n",
      "Usage Description          object\n",
      "Usage Description 2        object\n",
      "Usage Description 3        object\n",
      "dtype: object\n",
      "           Zip code  Congress Dist     Rep Dist  Senate Dist  Year Acquired  \\\n",
      "count   8862.000000    8862.000000  8862.000000  8862.000000    8862.000000   \n",
      "mean   61821.076845      13.404085    92.303318    46.408599    1913.267660   \n",
      "std     1095.203357       4.037936    23.568457    11.781038     337.024796   \n",
      "min     1235.000000       0.000000     0.000000     0.000000       0.000000   \n",
      "25%    61105.000000      12.000000    79.000000    40.000000    1957.000000   \n",
      "50%    62023.000000      14.000000    97.000000    49.000000    1975.000000   \n",
      "75%    62650.000000      16.000000   110.000000    55.000000    1992.000000   \n",
      "max    68297.000000      18.000000   119.000000    60.000000    2019.000000   \n",
      "\n",
      "       Year Constructed  Square Footage  Total Floors  Floors Above Grade  \\\n",
      "count       8862.000000    8.862000e+03   8862.000000         8862.000000   \n",
      "mean        1906.135184    1.147603e+04      1.636087            1.449334   \n",
      "std          351.180642    3.817263e+04      1.537603            1.286898   \n",
      "min            0.000000    0.000000e+00      0.000000            0.000000   \n",
      "25%         1953.000000    2.330000e+02      1.000000            1.000000   \n",
      "50%         1974.000000    1.600000e+03      1.000000            1.000000   \n",
      "75%         1991.000000    6.426500e+03      2.000000            1.000000   \n",
      "max         2019.000000    1.200000e+06     31.000000           30.000000   \n",
      "\n",
      "       Floors Below Grade  \n",
      "count         8862.000000  \n",
      "mean             0.161589  \n",
      "std              0.392717  \n",
      "min              0.000000  \n",
      "25%              0.000000  \n",
      "50%              0.000000  \n",
      "75%              0.000000  \n",
      "max              4.000000  \n"
     ]
    }
   ],
   "source": [
    "#check the basic information about the dataframe df\n",
    "print(df.shape)\n",
    "print(df.dtypes)\n",
    "print(df.describe())"
   ]
  },
  {
   "cell_type": "code",
   "execution_count": 7,
   "metadata": {},
   "outputs": [],
   "source": [
    "#Change the column names in the data frame\n",
    "df.columns = df.columns.str.replace(' ', '_')"
   ]
  },
  {
   "cell_type": "code",
   "execution_count": 8,
   "metadata": {},
   "outputs": [
    {
     "name": "stdout",
     "output_type": "stream",
     "text": [
      "Agency_Name                object\n",
      "Location_Name              object\n",
      "Address                    object\n",
      "City                       object\n",
      "Zip_code                    int64\n",
      "County                     object\n",
      "Congress_Dist               int64\n",
      "Congressional_Full_Name    object\n",
      "Rep_Dist                    int64\n",
      "Rep_Full_Name              object\n",
      "Senate_Dist                 int64\n",
      "Senator_Full_Name          object\n",
      "Bldg_Status                object\n",
      "Year_Acquired               int64\n",
      "Year_Constructed            int64\n",
      "Square_Footage              int64\n",
      "Total_Floors                int64\n",
      "Floors_Above_Grade          int64\n",
      "Floors_Below_Grade          int64\n",
      "Usage_Description          object\n",
      "Usage_Description_2        object\n",
      "Usage_Description_3        object\n",
      "dtype: object\n"
     ]
    }
   ],
   "source": [
    "print(df.dtypes)"
   ]
  },
  {
   "cell_type": "code",
   "execution_count": 9,
   "metadata": {},
   "outputs": [],
   "source": [
    "#Let's try to get the plot about the relationship between two numerical variables\n",
    "import matplotlib.pyplot as plt"
   ]
  },
  {
   "cell_type": "code",
   "execution_count": 10,
   "metadata": {},
   "outputs": [
    {
     "data": {
      "text/plain": [
       "<matplotlib.collections.PathCollection at 0x10b28fb38>"
      ]
     },
     "execution_count": 10,
     "metadata": {},
     "output_type": "execute_result"
    },
    {
     "data": {
      "image/png": "[encoded data removed]",
      "text/plain": [
       "<matplotlib.figure.Figure at 0x10b6c05f8>"
      ]
     },
     "metadata": {},
     "output_type": "display_data"
    }
   ],
   "source": [
    "#I pick variables Year_Constructed and Congress_Dist\n",
    "plt.scatter(df.Year_Constructed, df.Congress_Dist,s=df.Total_Floors)"
   ]
  },
  {
   "cell_type": "markdown",
   "metadata": {},
   "source": [
    "From the plot above, we can find most buildings were constructed after 1750. Let's clean the data and make a plot after using boolean expression."
   ]
  },
  {
   "cell_type": "code",
   "execution_count": 12,
   "metadata": {},
   "outputs": [
    {
     "data": {
      "text/plain": [
       "Text(0,0.5,'Congress Distance')"
      ]
     },
     "execution_count": 12,
     "metadata": {},
     "output_type": "execute_result"
    },
    {
     "data": {
      "image/png": "[encoded data removed]",
      "text/plain": [
       "<matplotlib.figure.Figure at 0x117799668>"
      ]
     },
     "metadata": {},
     "output_type": "display_data"
    }
   ],
   "source": [
    "yearpick=df.Year_Constructed>1750\n",
    "plt.scatter(df.Year_Constructed[yearpick], df.Congress_Dist[yearpick],s=df.Total_Floors)\n",
    "\n",
    "#Refine the plot by adding titles\n",
    "plt.title(\"State Buildings\")\n",
    "plt.xlabel(\"Year Constructed\")\n",
    "plt.ylabel(\"Congress Distance\")"
   ]
  },
  {
   "cell_type": "markdown",
   "metadata": {},
   "source": [
    "Let's try the hexbin plot."
   ]
  },
  {
   "cell_type": "code",
   "execution_count": 13,
   "metadata": {},
   "outputs": [
    {
     "data": {
      "image/png": "[encoded data removed]",
      "text/plain": [
       "<matplotlib.figure.Figure at 0x10a9ead30>"
      ]
     },
     "metadata": {},
     "output_type": "display_data"
    }
   ],
   "source": [
    "plt.clf()\n",
    "plt.hexbin(df.Year_Constructed[yearpick], df.Congress_Dist[yearpick], gridsize=32,bins='log',cmap='inferno')\n",
    "plt.title(\"State Buildings\")\n",
    "plt.xlabel(\"Year Constructed\")\n",
    "plt.ylabel(\"Congress Distance\")\n",
    "plt.colorbar()\n",
    "fig = plt.gcf()"
   ]
  },
  {
   "cell_type": "markdown",
   "metadata": {},
   "source": [
    "For practice, I will redo the code shown in class. First I will create a dictionary and then count the frequence in one character variable. "
   ]
  },
  {
   "cell_type": "code",
   "execution_count": 14,
   "metadata": {},
   "outputs": [],
   "source": [
    "import csv\n",
    "f = open(\"Building_Inventory.csv\")\n",
    "csv_reader = csv.reader(f)\n",
    "header = next(csv_reader)"
   ]
  },
  {
   "cell_type": "code",
   "execution_count": 15,
   "metadata": {},
   "outputs": [
    {
     "data": {
      "text/plain": [
       "{'Address': [],\n",
       " 'Agency Name': [],\n",
       " 'Bldg Status': [],\n",
       " 'City': [],\n",
       " 'Congress Dist': [],\n",
       " 'Congressional Full Name': [],\n",
       " 'County': [],\n",
       " 'Floors Above Grade': [],\n",
       " 'Floors Below Grade': [],\n",
       " 'Location Name': [],\n",
       " 'Rep Dist': [],\n",
       " 'Rep Full Name': [],\n",
       " 'Senate Dist': [],\n",
       " 'Senator Full Name': [],\n",
       " 'Square Footage': [],\n",
       " 'Total Floors': [],\n",
       " 'Usage Description': [],\n",
       " 'Usage Description 2': [],\n",
       " 'Usage Description 3': [],\n",
       " 'Year Acquired': [],\n",
       " 'Year Constructed': [],\n",
       " 'Zip code': []}"
      ]
     },
     "execution_count": 15,
     "metadata": {},
     "output_type": "execute_result"
    }
   ],
   "source": [
    "data = {}\n",
    "for name in header:\n",
    "    data[name] = []\n",
    "data"
   ]
  },
  {
   "cell_type": "code",
   "execution_count": 16,
   "metadata": {},
   "outputs": [],
   "source": [
    "for row in csv_reader:\n",
    "    for name, value in zip(header, row):\n",
    "        data[name].append(value)"
   ]
  },
  {
   "cell_type": "code",
   "execution_count": 18,
   "metadata": {},
   "outputs": [
    {
     "data": {
      "text/plain": [
       "dict_keys(['Agency Name', 'Location Name', 'Address', 'City', 'Zip code', 'County', 'Congress Dist', 'Congressional Full Name', 'Rep Dist', 'Rep Full Name', 'Senate Dist', 'Senator Full Name', 'Bldg Status', 'Year Acquired', 'Year Constructed', 'Square Footage', 'Total Floors', 'Floors Above Grade', 'Floors Below Grade', 'Usage Description', 'Usage Description 2', 'Usage Description 3'])"
      ]
     },
     "execution_count": 18,
     "metadata": {},
     "output_type": "execute_result"
    }
   ],
   "source": [
    "data.keys()"
   ]
  },
  {
   "cell_type": "code",
   "execution_count": 19,
   "metadata": {},
   "outputs": [
    {
     "data": {
      "text/plain": [
       "8862"
      ]
     },
     "execution_count": 19,
     "metadata": {},
     "output_type": "execute_result"
    }
   ],
   "source": [
    "len(data['City'])"
   ]
  },
  {
   "cell_type": "code",
   "execution_count": 20,
   "metadata": {},
   "outputs": [
    {
     "data": {
      "text/plain": [
       "402"
      ]
     },
     "execution_count": 20,
     "metadata": {},
     "output_type": "execute_result"
    }
   ],
   "source": [
    "len(set(data['City']))"
   ]
  },
  {
   "cell_type": "code",
   "execution_count": 22,
   "metadata": {},
   "outputs": [
    {
     "data": {
      "text/plain": [
       "[('Springfield', 413),\n",
       " ('Carbondale', 258),\n",
       " ('Grafton', 231),\n",
       " ('Chicago', 229),\n",
       " ('Urbana', 204),\n",
       " ('Makanda', 200),\n",
       " ('Joliet', 193),\n",
       " ('Sparta', 169),\n",
       " ('Champaign', 149),\n",
       " ('Vandalia', 131),\n",
       " ('Lincoln', 129),\n",
       " ('Menard', 126),\n",
       " ('Dixon', 123),\n",
       " ('Normal', 104),\n",
       " ('Pontiac', 104),\n",
       " ('Peoria', 103),\n",
       " ('Utica', 100),\n",
       " ('Tinley Park', 100),\n",
       " ('Chandlerville', 97),\n",
       " ('Vienna', 93),\n",
       " ('Jacksonville', 88),\n",
       " ('Petersburg', 85),\n",
       " ('Marseilles', 84),\n",
       " ('Whittington', 84),\n",
       " ('Oakwood', 83),\n",
       " ('Carlyle', 79),\n",
       " ('Chester', 77),\n",
       " ('Duquoin', 75),\n",
       " ('Savanna', 73),\n",
       " ('Charleston', 71),\n",
       " ('Sheridan', 71),\n",
       " ('Waukegan', 68),\n",
       " ('Kankakee', 68),\n",
       " ('East St Louis', 67),\n",
       " ('St Charles', 67),\n",
       " ('Centralia', 67),\n",
       " ('Park Forest', 67),\n",
       " ('Quincy', 65),\n",
       " ('Dekalb', 64),\n",
       " ('Spring Grove', 63),\n",
       " ('Zion', 60),\n",
       " ('Mchenry', 60),\n",
       " ('Mt Morris', 57),\n",
       " ('Kinmundy', 55),\n",
       " ('Anna', 55),\n",
       " ('Leroy', 55),\n",
       " ('Clinton', 53),\n",
       " ('Dwight', 52),\n",
       " ('Pinckneyville', 52),\n",
       " ('Oregon', 51),\n",
       " ('Jonesboro', 51),\n",
       " ('Sumner', 51),\n",
       " ('Kewanee', 50),\n",
       " ('Hillsboro', 50),\n",
       " ('Manteno', 49),\n",
       " ('Macomb', 49),\n",
       " ('Rochester', 49),\n",
       " ('Alton', 49),\n",
       " ('Wilmington', 48),\n",
       " ('Newton', 48),\n",
       " ('Edwardsville', 47),\n",
       " ('Bourbonnais', 47),\n",
       " ('Canton', 44),\n",
       " ('Golconda', 43),\n",
       " ('Elgin', 42),\n",
       " ('Colchester', 41),\n",
       " ('Morrison', 41),\n",
       " ('Brimfield', 40),\n",
       " ('Apple River', 40),\n",
       " ('Windsor', 39),\n",
       " ('Galesburg', 39),\n",
       " ('East Moline', 39),\n",
       " ('Effingham', 38),\n",
       " ('Decatur', 37),\n",
       " ('Danville', 36),\n",
       " ('Mcleansboro', 36),\n",
       " ('Marshall', 36),\n",
       " ('Nashville', 36),\n",
       " ('Hanna City', 36),\n",
       " ('Goreville', 35),\n",
       " ('Baldwin', 33),\n",
       " ('Lerna', 32),\n",
       " ('Savoy', 32),\n",
       " ('Taylorville', 31),\n",
       " ('Morris', 30),\n",
       " ('Robinson', 30),\n",
       " ('Equality', 30),\n",
       " ('Hines', 30),\n",
       " ('Cave In Rock', 29),\n",
       " ('Bonnie', 29),\n",
       " ('Mt Sterling', 29),\n",
       " ('Metropolis', 28),\n",
       " ('Yorkville', 28),\n",
       " ('Shabbona', 28),\n",
       " ('Plainview', 27),\n",
       " ('Lena', 27),\n",
       " ('Mt Vernon', 26),\n",
       " ('Nauvoo', 25),\n",
       " ('Harrisburg', 24),\n",
       " ('Rockford', 24),\n",
       " ('Ina', 24),\n",
       " ('Ottawa', 23),\n",
       " ('Tamms', 23),\n",
       " ('Hamel', 23),\n",
       " ('Oakland', 22),\n",
       " ('Murphysboro', 22),\n",
       " ('Sheffield', 21),\n",
       " ('Wyanet', 21),\n",
       " ('Bloomington', 20),\n",
       " ('Prophetstown', 20),\n",
       " ('Galena', 20),\n",
       " ('Warrenville', 19),\n",
       " ('Pawnee', 19),\n",
       " ('Belleville', 19),\n",
       " ('Lewistown', 17),\n",
       " ('Topeka', 17),\n",
       " ('Granite City', 17),\n",
       " ('Ellis Grove', 17),\n",
       " ('Sullivan', 16),\n",
       " ('Monee', 16),\n",
       " ('Rushville', 16),\n",
       " ('Wyoming', 15),\n",
       " ('Havana', 15),\n",
       " ('Johnsonville', 15),\n",
       " ('Marion', 15),\n",
       " ('Rock Falls', 15),\n",
       " ('Collinsville', 14),\n",
       " ('Naperville', 14),\n",
       " ('Franklin Grove', 14),\n",
       " ('Alpha', 14),\n",
       " ('Augusta', 13),\n",
       " ('Litchfield', 13),\n",
       " ('Clayton', 13),\n",
       " ('Pittsfield', 13),\n",
       " ('Milan', 13),\n",
       " ('Lacon', 13),\n",
       " ('Miller City', 13),\n",
       " ('South Beloit', 13),\n",
       " ('Bogota', 12),\n",
       " ('Strasburg', 12),\n",
       " ('Dixon Springs', 12),\n",
       " ('Bishop Hill', 12),\n",
       " ('Rock Island', 12),\n",
       " ('University Park', 11),\n",
       " ('Prairie Du Rocher', 11),\n",
       " ('Morton', 11),\n",
       " ('Findlay', 11),\n",
       " ('Beaverville', 11),\n",
       " ('Edwards', 11),\n",
       " ('Lowpoint', 11),\n",
       " ('Harmon', 11),\n",
       " ('Mt Zion', 11),\n",
       " ('Astoria', 10),\n",
       " ('Belknap', 10),\n",
       " ('Lasalle', 10),\n",
       " ('Cairo', 10),\n",
       " ('Hutsonville', 10),\n",
       " ('Elizabethtown', 10),\n",
       " ('Manito', 10),\n",
       " ('Aurora', 10),\n",
       " ('Paris', 10),\n",
       " ('East St. Louis', 10),\n",
       " ('Rantoul', 10),\n",
       " ('Geneseo', 9),\n",
       " ('Hartford', 9),\n",
       " ('Loves Park', 9),\n",
       " ('Oglesby', 9),\n",
       " ('Bethany', 9),\n",
       " ('Mattoon', 9),\n",
       " ('Monticello', 9),\n",
       " ('Sterling', 9),\n",
       " ('Lockport', 8),\n",
       " ('Princeton', 8),\n",
       " ('Glasford', 8),\n",
       " ('Depue', 8),\n",
       " ('Coffeen', 8),\n",
       " ('Ramsey', 8),\n",
       " ('Ashkum', 8),\n",
       " ('Pesotum', 8),\n",
       " ('West City', 7),\n",
       " ('Moline', 7),\n",
       " ('Carrier Mills', 7),\n",
       " ('Forest City', 7),\n",
       " ('Benton', 7),\n",
       " ('Mt Carmel', 7),\n",
       " ('Old Shawneetown', 7),\n",
       " ('Metamora', 7),\n",
       " ('Northfield', 7),\n",
       " ('Alsip', 7),\n",
       " ('Minooka', 7),\n",
       " ('Woodstock', 7),\n",
       " ('Freeport', 7),\n",
       " ('Monmouth', 7),\n",
       " ('Salem', 7),\n",
       " ('Lawrenceville', 7),\n",
       " ('Downers Grove', 7),\n",
       " ('Northbrook', 6),\n",
       " ('Carmi', 6),\n",
       " ('Fairfield', 6),\n",
       " ('Bureau', 6),\n",
       " ('Brookport', 6),\n",
       " ('Cahokia', 6),\n",
       " ('Elk Grove Village', 6),\n",
       " ('Belvidere', 6),\n",
       " ('Buckley', 6),\n",
       " ('Tuscola', 6),\n",
       " ('Greenup', 6),\n",
       " ('Carthage', 6),\n",
       " ('Olney', 6),\n",
       " ('Highland', 6),\n",
       " ('Columbia', 6),\n",
       " ('Georgetown', 5),\n",
       " ('Steeleville', 5),\n",
       " ('Markham', 5),\n",
       " ('Knoxville', 5),\n",
       " ('Troy', 5),\n",
       " ('Ingleside', 5),\n",
       " ('Riggston', 5),\n",
       " ('South Holland', 5),\n",
       " ('Bolingbrook', 5),\n",
       " ('Mccook', 5),\n",
       " ('Compton', 5),\n",
       " ('Sycamore', 5),\n",
       " ('Wenona', 5),\n",
       " ('East Peoria', 5),\n",
       " ('Shelbyville', 5),\n",
       " ('Sherman', 5),\n",
       " ('Flora', 5),\n",
       " ('Enfield', 5),\n",
       " ('Bethalto', 5),\n",
       " ('Jerseyville', 5),\n",
       " ('Hecker', 5),\n",
       " ('Carrollton', 5),\n",
       " ('Fithian', 4),\n",
       " ('Lake Zurich', 4),\n",
       " ('Pecatonica', 4),\n",
       " ('Schaumburg', 4),\n",
       " ('Gorham', 4),\n",
       " ('Biggsville', 4),\n",
       " ('Amboy', 4),\n",
       " ('Dongola', 4),\n",
       " ('Arlington Heights', 4),\n",
       " ('Channahon', 4),\n",
       " ('Keithsburg', 4),\n",
       " ('Roodhouse', 4),\n",
       " ('Harvey', 4),\n",
       " ('New Lenox', 4),\n",
       " ('Lynn Center', 4),\n",
       " ('Stockton', 4),\n",
       " ('Galva', 4),\n",
       " ('Paw Paw', 4),\n",
       " ('Mt Carroll', 4),\n",
       " ('Creston', 4),\n",
       " ('Elizabeth', 4),\n",
       " ('Watseka', 4),\n",
       " ('Gibson City', 4),\n",
       " ('Argenta', 4),\n",
       " ('Carlinville', 4),\n",
       " ('Waggoner', 4),\n",
       " ('Virginia', 4),\n",
       " ('Greenville', 4),\n",
       " ('Fairview Heights', 4),\n",
       " ('Des Plaines', 4),\n",
       " ('Machesney Park', 4),\n",
       " ('Farmer City', 4),\n",
       " ('Forreston', 4),\n",
       " ('El Paso', 3),\n",
       " ('Tiskilwa', 3),\n",
       " ('Coal Valley', 3),\n",
       " ('Iuka', 3),\n",
       " ('Bartlett', 3),\n",
       " ('Hillside', 3),\n",
       " ('Grays Lake', 3),\n",
       " ('Davis Junction', 3),\n",
       " ('Silvis', 3),\n",
       " ('Roscoe', 3),\n",
       " ('Carlock', 3),\n",
       " ('Forrest', 3),\n",
       " ('Gardner', 3),\n",
       " ('Towanda', 3),\n",
       " ('Funks Grove', 3),\n",
       " ('Aledo', 3),\n",
       " ('Hopedale', 3),\n",
       " ('Mason City', 3),\n",
       " ('Barry', 3),\n",
       " ('Kampsville', 3),\n",
       " ('Shiloh', 3),\n",
       " ('Zeigler', 3),\n",
       " ('Shawneetown', 3),\n",
       " ('Streamwood', 3),\n",
       " ('Crestwood', 3),\n",
       " ('Bartonville', 3),\n",
       " ('Lebanon', 2),\n",
       " ('Gurnee', 2),\n",
       " ('Atkinson', 2),\n",
       " ('Ladd', 2),\n",
       " ('Waterman', 2),\n",
       " ('Rosecrans', 2),\n",
       " ('Victoria', 2),\n",
       " ('Seneca', 2),\n",
       " ('Viola', 2),\n",
       " ('Plano', 2),\n",
       " ('Kaskaskia', 2),\n",
       " ('Hardin', 2),\n",
       " ('Griggsville', 2),\n",
       " ('Bement', 2),\n",
       " ('Oquawka', 2),\n",
       " ('Peotone', 2),\n",
       " ('Fox River Heights', 2),\n",
       " ('Harvard', 2),\n",
       " ('Oak Brook', 2),\n",
       " ('Hampton', 2),\n",
       " ('Lyndon', 2),\n",
       " ('Benson', 2),\n",
       " ('Congerville', 2),\n",
       " ('Dahinda', 2),\n",
       " ('Mitchell', 2),\n",
       " ('Mascoutah', 2),\n",
       " ('Ullin', 2),\n",
       " ('Beardstown', 2),\n",
       " ('North Riverside', 2),\n",
       " ('Albany', 2),\n",
       " ('Oak Forest', 2),\n",
       " ('Melrose Park', 2),\n",
       " ('Rosemont', 2),\n",
       " ('Elmhurst', 2),\n",
       " ('Lake Bluff', 2),\n",
       " ('Lake Forest', 2),\n",
       " ('Highland Park', 2),\n",
       " ('Godfrey', 2),\n",
       " ('Mansfield', 2),\n",
       " ('Rapid City', 2),\n",
       " ('Spring Valley', 2),\n",
       " ('Andover', 1),\n",
       " ('Thebes', 1),\n",
       " ('Herod', 1),\n",
       " ('Mineral', 1),\n",
       " ('Villa Park', 1),\n",
       " ('Divernon', 1),\n",
       " ('Lincoln Gardens', 1),\n",
       " ('Fieldon', 1),\n",
       " ('Michael', 1),\n",
       " ('Mackinaw', 1),\n",
       " ('Mt Pulaski', 1),\n",
       " ('Lyons', 1),\n",
       " ('Braceville', 1),\n",
       " ('Chicago Heights', 1),\n",
       " ('Prospect Heights', 1),\n",
       " ('Richmond', 1),\n",
       " ('Marengo', 1),\n",
       " ('Oak Park', 1),\n",
       " ('Sheldon', 1),\n",
       " ('Brownstown', 1),\n",
       " ('Sandoval', 1),\n",
       " ('Grayville', 1),\n",
       " ('Jeiseyville', 1),\n",
       " ('Scott Af Base', 1),\n",
       " ('Glen Ellyn', 1),\n",
       " ('Elwood', 1),\n",
       " ('Cypress', 1),\n",
       " ('Kingston', 1),\n",
       " ('Delavan', 1),\n",
       " ('Streator', 1),\n",
       " ('West Frankfort', 1),\n",
       " ('Bondville', 1),\n",
       " ('Glenview', 1),\n",
       " ('Rockton', 1),\n",
       " ('Tamaroa', 1),\n",
       " ('Dundas', 1),\n",
       " ('Mechanicsburg', 1),\n",
       " ('* No City *', 1),\n",
       " ('Stone Park', 1),\n",
       " ('Niles', 1),\n",
       " ('Skokie', 1),\n",
       " ('Riverdale', 1),\n",
       " ('Hillsdale', 1),\n",
       " ('Bridgeview', 1),\n",
       " ('Cicero', 1),\n",
       " ('Oak Lawn', 1),\n",
       " ('Calumet Park', 1),\n",
       " ('Mundelein', 1),\n",
       " ('Hampshire', 1),\n",
       " ('Plainfield', 1),\n",
       " ('Venice', 1),\n",
       " ('Washington Park', 1),\n",
       " ('Wheeler', 1),\n",
       " ('Martinsville', 1),\n",
       " ('East Moline, IL', 1),\n",
       " ('Riverton', 1),\n",
       " ('Madison', 1),\n",
       " ('Pekin', 1),\n",
       " ('Park Rorest', 1),\n",
       " ('Blue Island', 1),\n",
       " ('Junction', 1),\n",
       " ('LaSalle', 1),\n",
       " ('SPRINGFIELD', 1),\n",
       " ('Pierron', 1),\n",
       " ('Worth', 1),\n",
       " ('Wood River', 1),\n",
       " ('McLeansboro', 1),\n",
       " ('Maryville', 1),\n",
       " ('Aledd', 1)]"
      ]
     },
     "execution_count": 22,
     "metadata": {},
     "output_type": "execute_result"
    }
   ],
   "source": [
    "from collections import Counter\n",
    "c = Counter(data['City'])\n",
    "c.most_common()"
   ]
  },
  {
   "cell_type": "code",
   "execution_count": 25,
   "metadata": {},
   "outputs": [
    {
     "data": {
      "text/plain": [
       "413"
      ]
     },
     "execution_count": 25,
     "metadata": {},
     "output_type": "execute_result"
    }
   ],
   "source": [
    "max(c.values())"
   ]
  },
  {
   "cell_type": "code",
   "execution_count": 27,
   "metadata": {},
   "outputs": [],
   "source": [
    "import numpy as np"
   ]
  },
  {
   "cell_type": "code",
   "execution_count": 29,
   "metadata": {},
   "outputs": [
    {
     "data": {
      "text/plain": [
       "array([93, 93, 76, ..., 74, 69, 76])"
      ]
     },
     "execution_count": 29,
     "metadata": {},
     "output_type": "execute_result"
    }
   ],
   "source": [
    "Rep_Dist = np.array(data['Rep Dist'], dtype='int')\n",
    "Rep_Dist[::5]"
   ]
  },
  {
   "cell_type": "code",
   "execution_count": 31,
   "metadata": {},
   "outputs": [
    {
     "data": {
      "text/plain": [
       "[('115', 677),\n",
       " ('118', 545),\n",
       " ('116', 466),\n",
       " ('87', 442),\n",
       " ('103', 380),\n",
       " ('100', 339),\n",
       " ('93', 332),\n",
       " ('90', 315),\n",
       " ('107', 288),\n",
       " ('75', 245)]"
      ]
     },
     "execution_count": 31,
     "metadata": {},
     "output_type": "execute_result"
    }
   ],
   "source": [
    "Counter(data['Rep Dist']).most_common(10)"
   ]
  },
  {
   "cell_type": "code",
   "execution_count": 36,
   "metadata": {},
   "outputs": [],
   "source": [
    "city_count = Counter()\n",
    "for city, repdist in zip(data['City'], data['Rep Dist']):\n",
    "    if int(repdist) == 115:\n",
    "        city_count[city] += 1"
   ]
  },
  {
   "cell_type": "code",
   "execution_count": 37,
   "metadata": {},
   "outputs": [
    {
     "data": {
      "text/plain": [
       "Counter({'Anna': 45,\n",
       "         'Belleville': 8,\n",
       "         'Bonnie': 29,\n",
       "         'Carbondale': 250,\n",
       "         'Dundas': 1,\n",
       "         'Duquoin': 75,\n",
       "         'Gorham': 4,\n",
       "         'Grays Lake': 3,\n",
       "         'Ina': 24,\n",
       "         'Jonesboro': 51,\n",
       "         'Junction': 1,\n",
       "         'Kinmundy': 4,\n",
       "         'Makanda': 96,\n",
       "         'Marion': 1,\n",
       "         'Mt Vernon': 26,\n",
       "         'Murphysboro': 22,\n",
       "         'Nashville': 31,\n",
       "         'Shawneetown': 3,\n",
       "         'Tamaroa': 1,\n",
       "         'Viola': 2})"
      ]
     },
     "execution_count": 37,
     "metadata": {},
     "output_type": "execute_result"
    }
   ],
   "source": [
    "city_count"
   ]
  }
 ],
 "metadata": {
  "kernelspec": {
   "display_name": "Python 3",
   "language": "python",
   "name": "python3"
  },
  "language_info": {
   "codemirror_mode": {
    "name": "ipython",
    "version": 3
   },
   "file_extension": ".py",
   "mimetype": "text/x-python",
   "name": "python",
   "nbconvert_exporter": "python",
   "pygments_lexer": "ipython3",
   "version": "3.6.4"
  }
 },
 "nbformat": 4,
 "nbformat_minor": 2
}
